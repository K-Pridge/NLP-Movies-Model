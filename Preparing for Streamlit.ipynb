{
 "cells": [
  {
   "cell_type": "code",
   "execution_count": 1,
   "id": "7fb4f341-abd0-4c57-a1d7-414fda1b3762",
   "metadata": {},
   "outputs": [],
   "source": [
    "import pandas as pd\n",
    "from sklearn.ensemble import RandomForestClassifier\n",
    "from sklearn.linear_model import LogisticRegression\n",
    "from sklearn.model_selection import train_test_split\n",
    "from sklearn.preprocessing import OneHotEncoder\n",
    "from sklearn.pipeline import make_pipeline\n",
    "from sklearn.compose import make_column_transformer\n",
    "from sklearn.metrics import classification_report, ConfusionMatrixDisplay\n",
    "from sklearn import set_config\n",
    "set_config(transform_output='pandas')"
   ]
  },
  {
   "cell_type": "code",
   "execution_count": 2,
   "id": "f99cef5f-1720-49a3-9355-ea0ee0ae31c9",
   "metadata": {},
   "outputs": [
    {
     "data": {
      "text/html": [
       "<div>\n",
       "<style scoped>\n",
       "    .dataframe tbody tr th:only-of-type {\n",
       "        vertical-align: middle;\n",
       "    }\n",
       "\n",
       "    .dataframe tbody tr th {\n",
       "        vertical-align: top;\n",
       "    }\n",
       "\n",
       "    .dataframe thead th {\n",
       "        text-align: right;\n",
       "    }\n",
       "</style>\n",
       "<table border=\"1\" class=\"dataframe\">\n",
       "  <thead>\n",
       "    <tr style=\"text-align: right;\">\n",
       "      <th></th>\n",
       "      <th>review_id</th>\n",
       "      <th>movie_id</th>\n",
       "      <th>imdb_id</th>\n",
       "      <th>original_title</th>\n",
       "      <th>review</th>\n",
       "      <th>rating</th>\n",
       "      <th>lower_text</th>\n",
       "      <th>tokens</th>\n",
       "      <th>target</th>\n",
       "      <th>spacy_lemmas</th>\n",
       "      <th>length</th>\n",
       "    </tr>\n",
       "  </thead>\n",
       "  <tbody>\n",
       "    <tr>\n",
       "      <th>0</th>\n",
       "      <td>64ecc16e83901800af821d50</td>\n",
       "      <td>843</td>\n",
       "      <td>tt0118694</td>\n",
       "      <td>花樣年華</td>\n",
       "      <td>This is a fine piece of cinema from Wong Kar-W...</td>\n",
       "      <td>7.0</td>\n",
       "      <td>this is a fine piece of cinema from wong kar-w...</td>\n",
       "      <td>['this', 'is', 'a', 'fine', 'piece', 'of', 'ci...</td>\n",
       "      <td>NaN</td>\n",
       "      <td>['fine', 'piece', 'cinema', 'wong', 'kar', 'wa...</td>\n",
       "      <td>266</td>\n",
       "    </tr>\n",
       "    <tr>\n",
       "      <th>1</th>\n",
       "      <td>57086ff5c3a3681d29001512</td>\n",
       "      <td>7443</td>\n",
       "      <td>tt0120630</td>\n",
       "      <td>Chicken Run</td>\n",
       "      <td>A guilty pleasure for me personally, as I love...</td>\n",
       "      <td>9.0</td>\n",
       "      <td>a guilty pleasure for me personally, as i love...</td>\n",
       "      <td>['a', 'guilty', 'pleasure', 'for', 'me', 'pers...</td>\n",
       "      <td>high-rating</td>\n",
       "      <td>['guilty', 'pleasure', 'personally', 'love', '...</td>\n",
       "      <td>41</td>\n",
       "    </tr>\n",
       "    <tr>\n",
       "      <th>2</th>\n",
       "      <td>5bb5ac829251410dcb00810c</td>\n",
       "      <td>7443</td>\n",
       "      <td>tt0120630</td>\n",
       "      <td>Chicken Run</td>\n",
       "      <td>Made my roommate who hates stop-motion animati...</td>\n",
       "      <td>6.0</td>\n",
       "      <td>made my roommate who hates stop-motion animati...</td>\n",
       "      <td>['made', 'my', 'roommate', 'who', 'hates', 'st...</td>\n",
       "      <td>NaN</td>\n",
       "      <td>['roommate', 'hate', 'stop', 'motion', 'animat...</td>\n",
       "      <td>57</td>\n",
       "    </tr>\n",
       "    <tr>\n",
       "      <th>3</th>\n",
       "      <td>5f0c53a013a32000357ec505</td>\n",
       "      <td>7443</td>\n",
       "      <td>tt0120630</td>\n",
       "      <td>Chicken Run</td>\n",
       "      <td>A very good stop-motion animation!\\r\\n\\r\\n&lt;em&gt;...</td>\n",
       "      <td>8.0</td>\n",
       "      <td>a very good stop-motion animation!\\r\\n\\r\\n&lt;em&gt;...</td>\n",
       "      <td>['a', 'very', 'good', 'stop-motion', 'animatio...</td>\n",
       "      <td>NaN</td>\n",
       "      <td>['good', 'stop', 'motion', 'animation', '&lt;', \"...</td>\n",
       "      <td>135</td>\n",
       "    </tr>\n",
       "    <tr>\n",
       "      <th>4</th>\n",
       "      <td>64ecc027594c9400ffe77c91</td>\n",
       "      <td>7443</td>\n",
       "      <td>tt0120630</td>\n",
       "      <td>Chicken Run</td>\n",
       "      <td>Ok, there is an huge temptation to riddle this...</td>\n",
       "      <td>7.0</td>\n",
       "      <td>ok, there is an huge temptation to riddle this...</td>\n",
       "      <td>['ok,', 'there', 'is', 'an', 'huge', 'temptati...</td>\n",
       "      <td>NaN</td>\n",
       "      <td>['ok', 'huge', 'temptation', 'riddle', 'review...</td>\n",
       "      <td>206</td>\n",
       "    </tr>\n",
       "  </tbody>\n",
       "</table>\n",
       "</div>"
      ],
      "text/plain": [
       "                  review_id  movie_id    imdb_id original_title  \\\n",
       "0  64ecc16e83901800af821d50       843  tt0118694           花樣年華   \n",
       "1  57086ff5c3a3681d29001512      7443  tt0120630    Chicken Run   \n",
       "2  5bb5ac829251410dcb00810c      7443  tt0120630    Chicken Run   \n",
       "3  5f0c53a013a32000357ec505      7443  tt0120630    Chicken Run   \n",
       "4  64ecc027594c9400ffe77c91      7443  tt0120630    Chicken Run   \n",
       "\n",
       "                                              review  rating  \\\n",
       "0  This is a fine piece of cinema from Wong Kar-W...     7.0   \n",
       "1  A guilty pleasure for me personally, as I love...     9.0   \n",
       "2  Made my roommate who hates stop-motion animati...     6.0   \n",
       "3  A very good stop-motion animation!\\r\\n\\r\\n<em>...     8.0   \n",
       "4  Ok, there is an huge temptation to riddle this...     7.0   \n",
       "\n",
       "                                          lower_text  \\\n",
       "0  this is a fine piece of cinema from wong kar-w...   \n",
       "1  a guilty pleasure for me personally, as i love...   \n",
       "2  made my roommate who hates stop-motion animati...   \n",
       "3  a very good stop-motion animation!\\r\\n\\r\\n<em>...   \n",
       "4  ok, there is an huge temptation to riddle this...   \n",
       "\n",
       "                                              tokens       target  \\\n",
       "0  ['this', 'is', 'a', 'fine', 'piece', 'of', 'ci...          NaN   \n",
       "1  ['a', 'guilty', 'pleasure', 'for', 'me', 'pers...  high-rating   \n",
       "2  ['made', 'my', 'roommate', 'who', 'hates', 'st...          NaN   \n",
       "3  ['a', 'very', 'good', 'stop-motion', 'animatio...          NaN   \n",
       "4  ['ok,', 'there', 'is', 'an', 'huge', 'temptati...          NaN   \n",
       "\n",
       "                                        spacy_lemmas  length  \n",
       "0  ['fine', 'piece', 'cinema', 'wong', 'kar', 'wa...     266  \n",
       "1  ['guilty', 'pleasure', 'personally', 'love', '...      41  \n",
       "2  ['roommate', 'hate', 'stop', 'motion', 'animat...      57  \n",
       "3  ['good', 'stop', 'motion', 'animation', '<', \"...     135  \n",
       "4  ['ok', 'huge', 'temptation', 'riddle', 'review...     206  "
      ]
     },
     "execution_count": 2,
     "metadata": {},
     "output_type": "execute_result"
    }
   ],
   "source": [
    "df = pd.read_csv('Data-NLP/processed_data.csv')\n",
    "df.head()"
   ]
  },
  {
   "cell_type": "code",
   "execution_count": 3,
   "id": "7df7dfa1-2a27-43a6-8cec-0b8ae82a3ab5",
   "metadata": {},
   "outputs": [
    {
     "data": {
      "text/html": [
       "<div>\n",
       "<style scoped>\n",
       "    .dataframe tbody tr th:only-of-type {\n",
       "        vertical-align: middle;\n",
       "    }\n",
       "\n",
       "    .dataframe tbody tr th {\n",
       "        vertical-align: top;\n",
       "    }\n",
       "\n",
       "    .dataframe thead th {\n",
       "        text-align: right;\n",
       "    }\n",
       "</style>\n",
       "<table border=\"1\" class=\"dataframe\">\n",
       "  <thead>\n",
       "    <tr style=\"text-align: right;\">\n",
       "      <th></th>\n",
       "      <th>movie_id</th>\n",
       "      <th>rating</th>\n",
       "      <th>length</th>\n",
       "    </tr>\n",
       "  </thead>\n",
       "  <tbody>\n",
       "    <tr>\n",
       "      <th>count</th>\n",
       "      <td>8.650000e+03</td>\n",
       "      <td>7454.000000</td>\n",
       "      <td>8650.000000</td>\n",
       "    </tr>\n",
       "    <tr>\n",
       "      <th>mean</th>\n",
       "      <td>2.714300e+05</td>\n",
       "      <td>6.497854</td>\n",
       "      <td>233.042543</td>\n",
       "    </tr>\n",
       "    <tr>\n",
       "      <th>std</th>\n",
       "      <td>2.392418e+05</td>\n",
       "      <td>2.159961</td>\n",
       "      <td>307.939079</td>\n",
       "    </tr>\n",
       "    <tr>\n",
       "      <th>min</th>\n",
       "      <td>1.200000e+01</td>\n",
       "      <td>0.500000</td>\n",
       "      <td>1.000000</td>\n",
       "    </tr>\n",
       "    <tr>\n",
       "      <th>25%</th>\n",
       "      <td>3.664800e+04</td>\n",
       "      <td>5.000000</td>\n",
       "      <td>55.000000</td>\n",
       "    </tr>\n",
       "    <tr>\n",
       "      <th>50%</th>\n",
       "      <td>2.719690e+05</td>\n",
       "      <td>7.000000</td>\n",
       "      <td>154.000000</td>\n",
       "    </tr>\n",
       "    <tr>\n",
       "      <th>75%</th>\n",
       "      <td>4.390790e+05</td>\n",
       "      <td>8.000000</td>\n",
       "      <td>291.750000</td>\n",
       "    </tr>\n",
       "    <tr>\n",
       "      <th>max</th>\n",
       "      <td>1.162322e+06</td>\n",
       "      <td>10.000000</td>\n",
       "      <td>4284.000000</td>\n",
       "    </tr>\n",
       "  </tbody>\n",
       "</table>\n",
       "</div>"
      ],
      "text/plain": [
       "           movie_id       rating       length\n",
       "count  8.650000e+03  7454.000000  8650.000000\n",
       "mean   2.714300e+05     6.497854   233.042543\n",
       "std    2.392418e+05     2.159961   307.939079\n",
       "min    1.200000e+01     0.500000     1.000000\n",
       "25%    3.664800e+04     5.000000    55.000000\n",
       "50%    2.719690e+05     7.000000   154.000000\n",
       "75%    4.390790e+05     8.000000   291.750000\n",
       "max    1.162322e+06    10.000000  4284.000000"
      ]
     },
     "execution_count": 3,
     "metadata": {},
     "output_type": "execute_result"
    }
   ],
   "source": [
    "df.describe()"
   ]
  },
  {
   "cell_type": "code",
   "execution_count": 4,
   "id": "3f27f23c-33d1-4993-97a2-4c15562470ed",
   "metadata": {},
   "outputs": [],
   "source": [
    "df = df.dropna()"
   ]
  },
  {
   "cell_type": "code",
   "execution_count": 5,
   "id": "b6172938-b93f-4c23-a220-6f0cc188a030",
   "metadata": {},
   "outputs": [],
   "source": [
    "# Define x and y\n",
    "X =df['review']\n",
    "y = df['target']"
   ]
  },
  {
   "cell_type": "code",
   "execution_count": 6,
   "id": "f12dbec5-fa5d-4565-9993-702ff71f1c00",
   "metadata": {},
   "outputs": [],
   "source": [
    "X_train, X_test, y_train, y_test = train_test_split(X, y, stratify=y, random_state=42)"
   ]
  },
  {
   "cell_type": "code",
   "execution_count": 8,
   "id": "80cb1cef-af08-4016-9343-5c86df6e9aa2",
   "metadata": {},
   "outputs": [],
   "source": [
    "# Imports\n",
    "import pandas as pd\n",
    "import matplotlib.pyplot as plt\n",
    "from sklearn.model_selection import train_test_split\n",
    "from sklearn.pipeline import Pipeline\n",
    "from sklearn.feature_extraction.text import CountVectorizer, TfidfVectorizer\n",
    "from sklearn.ensemble import RandomForestClassifier\n",
    "from sklearn.linear_model import LogisticRegression\n",
    "from sklearn.naive_bayes import MultinomialNB\n",
    "from sklearn import metrics\n",
    "pd.set_option('display.max_colwidth',300)"
   ]
  },
  {
   "cell_type": "code",
   "execution_count": 9,
   "id": "f1c7a984-a85c-4393-a847-e8adeba72927",
   "metadata": {},
   "outputs": [
    {
     "data": {
      "text/html": [
       "<style>#sk-container-id-1 {color: black;background-color: white;}#sk-container-id-1 pre{padding: 0;}#sk-container-id-1 div.sk-toggleable {background-color: white;}#sk-container-id-1 label.sk-toggleable__label {cursor: pointer;display: block;width: 100%;margin-bottom: 0;padding: 0.3em;box-sizing: border-box;text-align: center;}#sk-container-id-1 label.sk-toggleable__label-arrow:before {content: \"▸\";float: left;margin-right: 0.25em;color: #696969;}#sk-container-id-1 label.sk-toggleable__label-arrow:hover:before {color: black;}#sk-container-id-1 div.sk-estimator:hover label.sk-toggleable__label-arrow:before {color: black;}#sk-container-id-1 div.sk-toggleable__content {max-height: 0;max-width: 0;overflow: hidden;text-align: left;background-color: #f0f8ff;}#sk-container-id-1 div.sk-toggleable__content pre {margin: 0.2em;color: black;border-radius: 0.25em;background-color: #f0f8ff;}#sk-container-id-1 input.sk-toggleable__control:checked~div.sk-toggleable__content {max-height: 200px;max-width: 100%;overflow: auto;}#sk-container-id-1 input.sk-toggleable__control:checked~label.sk-toggleable__label-arrow:before {content: \"▾\";}#sk-container-id-1 div.sk-estimator input.sk-toggleable__control:checked~label.sk-toggleable__label {background-color: #d4ebff;}#sk-container-id-1 div.sk-label input.sk-toggleable__control:checked~label.sk-toggleable__label {background-color: #d4ebff;}#sk-container-id-1 input.sk-hidden--visually {border: 0;clip: rect(1px 1px 1px 1px);clip: rect(1px, 1px, 1px, 1px);height: 1px;margin: -1px;overflow: hidden;padding: 0;position: absolute;width: 1px;}#sk-container-id-1 div.sk-estimator {font-family: monospace;background-color: #f0f8ff;border: 1px dotted black;border-radius: 0.25em;box-sizing: border-box;margin-bottom: 0.5em;}#sk-container-id-1 div.sk-estimator:hover {background-color: #d4ebff;}#sk-container-id-1 div.sk-parallel-item::after {content: \"\";width: 100%;border-bottom: 1px solid gray;flex-grow: 1;}#sk-container-id-1 div.sk-label:hover label.sk-toggleable__label {background-color: #d4ebff;}#sk-container-id-1 div.sk-serial::before {content: \"\";position: absolute;border-left: 1px solid gray;box-sizing: border-box;top: 0;bottom: 0;left: 50%;z-index: 0;}#sk-container-id-1 div.sk-serial {display: flex;flex-direction: column;align-items: center;background-color: white;padding-right: 0.2em;padding-left: 0.2em;position: relative;}#sk-container-id-1 div.sk-item {position: relative;z-index: 1;}#sk-container-id-1 div.sk-parallel {display: flex;align-items: stretch;justify-content: center;background-color: white;position: relative;}#sk-container-id-1 div.sk-item::before, #sk-container-id-1 div.sk-parallel-item::before {content: \"\";position: absolute;border-left: 1px solid gray;box-sizing: border-box;top: 0;bottom: 0;left: 50%;z-index: -1;}#sk-container-id-1 div.sk-parallel-item {display: flex;flex-direction: column;z-index: 1;position: relative;background-color: white;}#sk-container-id-1 div.sk-parallel-item:first-child::after {align-self: flex-end;width: 50%;}#sk-container-id-1 div.sk-parallel-item:last-child::after {align-self: flex-start;width: 50%;}#sk-container-id-1 div.sk-parallel-item:only-child::after {width: 0;}#sk-container-id-1 div.sk-dashed-wrapped {border: 1px dashed gray;margin: 0 0.4em 0.5em 0.4em;box-sizing: border-box;padding-bottom: 0.4em;background-color: white;}#sk-container-id-1 div.sk-label label {font-family: monospace;font-weight: bold;display: inline-block;line-height: 1.2em;}#sk-container-id-1 div.sk-label-container {text-align: center;}#sk-container-id-1 div.sk-container {/* jupyter's `normalize.less` sets `[hidden] { display: none; }` but bootstrap.min.css set `[hidden] { display: none !important; }` so we also need the `!important` here to be able to override the default hidden behavior on the sphinx rendered scikit-learn.org. See: https://github.com/scikit-learn/scikit-learn/issues/21755 */display: inline-block !important;position: relative;}#sk-container-id-1 div.sk-text-repr-fallback {display: none;}</style><div id=\"sk-container-id-1\" class=\"sk-top-container\"><div class=\"sk-text-repr-fallback\"><pre>CountVectorizer()</pre><b>In a Jupyter environment, please rerun this cell to show the HTML representation or trust the notebook. <br />On GitHub, the HTML representation is unable to render, please try loading this page with nbviewer.org.</b></div><div class=\"sk-container\" hidden><div class=\"sk-item\"><div class=\"sk-estimator sk-toggleable\"><input class=\"sk-toggleable__control sk-hidden--visually\" id=\"sk-estimator-id-1\" type=\"checkbox\" checked><label for=\"sk-estimator-id-1\" class=\"sk-toggleable__label sk-toggleable__label-arrow\">CountVectorizer</label><div class=\"sk-toggleable__content\"><pre>CountVectorizer()</pre></div></div></div></div></div>"
      ],
      "text/plain": [
       "CountVectorizer()"
      ]
     },
     "execution_count": 9,
     "metadata": {},
     "output_type": "execute_result"
    }
   ],
   "source": [
    "# instantiate a vectorizer\n",
    "vectorizer = CountVectorizer()\n",
    "vectorizer.fit(X_train)"
   ]
  },
  {
   "cell_type": "code",
   "execution_count": 10,
   "id": "95deed8e-96d7-4e59-ba99-02077df49f4e",
   "metadata": {},
   "outputs": [],
   "source": [
    "# Imports\n",
    "import pandas as pd\n",
    "import matplotlib.pyplot as plt\n",
    "from sklearn.model_selection import train_test_split\n",
    "from sklearn.pipeline import Pipeline\n",
    "from sklearn.feature_extraction.text import CountVectorizer, TfidfVectorizer\n",
    "from sklearn.ensemble import RandomForestClassifier\n",
    "from sklearn.linear_model import LogisticRegression\n",
    "from sklearn.naive_bayes import MultinomialNB\n",
    "from sklearn import metrics\n",
    "pd.set_option('display.max_colwidth',300)"
   ]
  },
  {
   "cell_type": "code",
   "execution_count": 11,
   "id": "a1b227fa-389f-48ed-a747-5f56f94f335a",
   "metadata": {},
   "outputs": [],
   "source": [
    "# Create a pipeline with a vectorizer and classification model.\n",
    "clf_pipe = Pipeline([('vectorizer', CountVectorizer()),\n",
    "                     ('clf',MultinomialNB())])"
   ]
  },
  {
   "cell_type": "code",
   "execution_count": 12,
   "id": "5bfd6805-c022-4dc4-82c4-9b1f8c724b38",
   "metadata": {},
   "outputs": [
    {
     "data": {
      "text/plain": [
       "{'memory': None,\n",
       " 'steps': [('vectorizer', CountVectorizer()), ('clf', MultinomialNB())],\n",
       " 'verbose': False,\n",
       " 'vectorizer': CountVectorizer(),\n",
       " 'clf': MultinomialNB(),\n",
       " 'vectorizer__analyzer': 'word',\n",
       " 'vectorizer__binary': False,\n",
       " 'vectorizer__decode_error': 'strict',\n",
       " 'vectorizer__dtype': numpy.int64,\n",
       " 'vectorizer__encoding': 'utf-8',\n",
       " 'vectorizer__input': 'content',\n",
       " 'vectorizer__lowercase': True,\n",
       " 'vectorizer__max_df': 1.0,\n",
       " 'vectorizer__max_features': None,\n",
       " 'vectorizer__min_df': 1,\n",
       " 'vectorizer__ngram_range': (1, 1),\n",
       " 'vectorizer__preprocessor': None,\n",
       " 'vectorizer__stop_words': None,\n",
       " 'vectorizer__strip_accents': None,\n",
       " 'vectorizer__token_pattern': '(?u)\\\\b\\\\w\\\\w+\\\\b',\n",
       " 'vectorizer__tokenizer': None,\n",
       " 'vectorizer__vocabulary': None,\n",
       " 'clf__alpha': 1.0,\n",
       " 'clf__class_prior': None,\n",
       " 'clf__fit_prior': True,\n",
       " 'clf__force_alpha': 'warn'}"
      ]
     },
     "execution_count": 12,
     "metadata": {},
     "output_type": "execute_result"
    }
   ],
   "source": [
    "clf_pipe.get_params()"
   ]
  },
  {
   "cell_type": "code",
   "execution_count": 13,
   "id": "e9ead333-f2f3-48c6-89ba-42aa6ab141ee",
   "metadata": {},
   "outputs": [],
   "source": [
    "# Param Grid\n",
    "param_grid = {\n",
    "    \"vectorizer__max_df\": [ 0.75, 0.85, 0.95],\n",
    "    'vectorizer__min_df': [ 2, 3, 4 ], \n",
    "    \"vectorizer__max_features\": [None, 500, 1000, 2000],\n",
    "    \"vectorizer__ngram_range\": [(1, 1), (1, 2)],\n",
    "    \"vectorizer__stop_words\": [None,'english'],\n",
    "    \"clf__alpha\": [.5, 1]\n",
    "}"
   ]
  },
  {
   "cell_type": "code",
   "execution_count": 14,
   "id": "b92ddde6-3761-4300-8302-4c6954318c24",
   "metadata": {},
   "outputs": [],
   "source": [
    "# Instantiate Grid Search CV \n",
    "from sklearn.model_selection import GridSearchCV"
   ]
  },
  {
   "cell_type": "code",
   "execution_count": 15,
   "id": "e5736cb8-80ea-4aa4-8548-b1cca886f614",
   "metadata": {},
   "outputs": [
    {
     "name": "stdout",
     "output_type": "stream",
     "text": [
      "Fitting 3 folds for each of 288 candidates, totalling 864 fits\n",
      "CPU times: total: 5.16 s\n",
      "Wall time: 27 s\n"
     ]
    },
    {
     "data": {
      "text/html": [
       "<style>#sk-container-id-2 {color: black;background-color: white;}#sk-container-id-2 pre{padding: 0;}#sk-container-id-2 div.sk-toggleable {background-color: white;}#sk-container-id-2 label.sk-toggleable__label {cursor: pointer;display: block;width: 100%;margin-bottom: 0;padding: 0.3em;box-sizing: border-box;text-align: center;}#sk-container-id-2 label.sk-toggleable__label-arrow:before {content: \"▸\";float: left;margin-right: 0.25em;color: #696969;}#sk-container-id-2 label.sk-toggleable__label-arrow:hover:before {color: black;}#sk-container-id-2 div.sk-estimator:hover label.sk-toggleable__label-arrow:before {color: black;}#sk-container-id-2 div.sk-toggleable__content {max-height: 0;max-width: 0;overflow: hidden;text-align: left;background-color: #f0f8ff;}#sk-container-id-2 div.sk-toggleable__content pre {margin: 0.2em;color: black;border-radius: 0.25em;background-color: #f0f8ff;}#sk-container-id-2 input.sk-toggleable__control:checked~div.sk-toggleable__content {max-height: 200px;max-width: 100%;overflow: auto;}#sk-container-id-2 input.sk-toggleable__control:checked~label.sk-toggleable__label-arrow:before {content: \"▾\";}#sk-container-id-2 div.sk-estimator input.sk-toggleable__control:checked~label.sk-toggleable__label {background-color: #d4ebff;}#sk-container-id-2 div.sk-label input.sk-toggleable__control:checked~label.sk-toggleable__label {background-color: #d4ebff;}#sk-container-id-2 input.sk-hidden--visually {border: 0;clip: rect(1px 1px 1px 1px);clip: rect(1px, 1px, 1px, 1px);height: 1px;margin: -1px;overflow: hidden;padding: 0;position: absolute;width: 1px;}#sk-container-id-2 div.sk-estimator {font-family: monospace;background-color: #f0f8ff;border: 1px dotted black;border-radius: 0.25em;box-sizing: border-box;margin-bottom: 0.5em;}#sk-container-id-2 div.sk-estimator:hover {background-color: #d4ebff;}#sk-container-id-2 div.sk-parallel-item::after {content: \"\";width: 100%;border-bottom: 1px solid gray;flex-grow: 1;}#sk-container-id-2 div.sk-label:hover label.sk-toggleable__label {background-color: #d4ebff;}#sk-container-id-2 div.sk-serial::before {content: \"\";position: absolute;border-left: 1px solid gray;box-sizing: border-box;top: 0;bottom: 0;left: 50%;z-index: 0;}#sk-container-id-2 div.sk-serial {display: flex;flex-direction: column;align-items: center;background-color: white;padding-right: 0.2em;padding-left: 0.2em;position: relative;}#sk-container-id-2 div.sk-item {position: relative;z-index: 1;}#sk-container-id-2 div.sk-parallel {display: flex;align-items: stretch;justify-content: center;background-color: white;position: relative;}#sk-container-id-2 div.sk-item::before, #sk-container-id-2 div.sk-parallel-item::before {content: \"\";position: absolute;border-left: 1px solid gray;box-sizing: border-box;top: 0;bottom: 0;left: 50%;z-index: -1;}#sk-container-id-2 div.sk-parallel-item {display: flex;flex-direction: column;z-index: 1;position: relative;background-color: white;}#sk-container-id-2 div.sk-parallel-item:first-child::after {align-self: flex-end;width: 50%;}#sk-container-id-2 div.sk-parallel-item:last-child::after {align-self: flex-start;width: 50%;}#sk-container-id-2 div.sk-parallel-item:only-child::after {width: 0;}#sk-container-id-2 div.sk-dashed-wrapped {border: 1px dashed gray;margin: 0 0.4em 0.5em 0.4em;box-sizing: border-box;padding-bottom: 0.4em;background-color: white;}#sk-container-id-2 div.sk-label label {font-family: monospace;font-weight: bold;display: inline-block;line-height: 1.2em;}#sk-container-id-2 div.sk-label-container {text-align: center;}#sk-container-id-2 div.sk-container {/* jupyter's `normalize.less` sets `[hidden] { display: none; }` but bootstrap.min.css set `[hidden] { display: none !important; }` so we also need the `!important` here to be able to override the default hidden behavior on the sphinx rendered scikit-learn.org. See: https://github.com/scikit-learn/scikit-learn/issues/21755 */display: inline-block !important;position: relative;}#sk-container-id-2 div.sk-text-repr-fallback {display: none;}</style><div id=\"sk-container-id-2\" class=\"sk-top-container\"><div class=\"sk-text-repr-fallback\"><pre>GridSearchCV(cv=3,\n",
       "             estimator=Pipeline(steps=[(&#x27;vectorizer&#x27;, CountVectorizer()),\n",
       "                                       (&#x27;clf&#x27;, MultinomialNB())]),\n",
       "             n_jobs=-1,\n",
       "             param_grid={&#x27;clf__alpha&#x27;: [0.5, 1],\n",
       "                         &#x27;vectorizer__max_df&#x27;: [0.75, 0.85, 0.95],\n",
       "                         &#x27;vectorizer__max_features&#x27;: [None, 500, 1000, 2000],\n",
       "                         &#x27;vectorizer__min_df&#x27;: [2, 3, 4],\n",
       "                         &#x27;vectorizer__ngram_range&#x27;: [(1, 1), (1, 2)],\n",
       "                         &#x27;vectorizer__stop_words&#x27;: [None, &#x27;english&#x27;]},\n",
       "             verbose=2)</pre><b>In a Jupyter environment, please rerun this cell to show the HTML representation or trust the notebook. <br />On GitHub, the HTML representation is unable to render, please try loading this page with nbviewer.org.</b></div><div class=\"sk-container\" hidden><div class=\"sk-item sk-dashed-wrapped\"><div class=\"sk-label-container\"><div class=\"sk-label sk-toggleable\"><input class=\"sk-toggleable__control sk-hidden--visually\" id=\"sk-estimator-id-2\" type=\"checkbox\" ><label for=\"sk-estimator-id-2\" class=\"sk-toggleable__label sk-toggleable__label-arrow\">GridSearchCV</label><div class=\"sk-toggleable__content\"><pre>GridSearchCV(cv=3,\n",
       "             estimator=Pipeline(steps=[(&#x27;vectorizer&#x27;, CountVectorizer()),\n",
       "                                       (&#x27;clf&#x27;, MultinomialNB())]),\n",
       "             n_jobs=-1,\n",
       "             param_grid={&#x27;clf__alpha&#x27;: [0.5, 1],\n",
       "                         &#x27;vectorizer__max_df&#x27;: [0.75, 0.85, 0.95],\n",
       "                         &#x27;vectorizer__max_features&#x27;: [None, 500, 1000, 2000],\n",
       "                         &#x27;vectorizer__min_df&#x27;: [2, 3, 4],\n",
       "                         &#x27;vectorizer__ngram_range&#x27;: [(1, 1), (1, 2)],\n",
       "                         &#x27;vectorizer__stop_words&#x27;: [None, &#x27;english&#x27;]},\n",
       "             verbose=2)</pre></div></div></div><div class=\"sk-parallel\"><div class=\"sk-parallel-item\"><div class=\"sk-item\"><div class=\"sk-label-container\"><div class=\"sk-label sk-toggleable\"><input class=\"sk-toggleable__control sk-hidden--visually\" id=\"sk-estimator-id-3\" type=\"checkbox\" ><label for=\"sk-estimator-id-3\" class=\"sk-toggleable__label sk-toggleable__label-arrow\">estimator: Pipeline</label><div class=\"sk-toggleable__content\"><pre>Pipeline(steps=[(&#x27;vectorizer&#x27;, CountVectorizer()), (&#x27;clf&#x27;, MultinomialNB())])</pre></div></div></div><div class=\"sk-serial\"><div class=\"sk-item\"><div class=\"sk-serial\"><div class=\"sk-item\"><div class=\"sk-estimator sk-toggleable\"><input class=\"sk-toggleable__control sk-hidden--visually\" id=\"sk-estimator-id-4\" type=\"checkbox\" ><label for=\"sk-estimator-id-4\" class=\"sk-toggleable__label sk-toggleable__label-arrow\">CountVectorizer</label><div class=\"sk-toggleable__content\"><pre>CountVectorizer()</pre></div></div></div><div class=\"sk-item\"><div class=\"sk-estimator sk-toggleable\"><input class=\"sk-toggleable__control sk-hidden--visually\" id=\"sk-estimator-id-5\" type=\"checkbox\" ><label for=\"sk-estimator-id-5\" class=\"sk-toggleable__label sk-toggleable__label-arrow\">MultinomialNB</label><div class=\"sk-toggleable__content\"><pre>MultinomialNB()</pre></div></div></div></div></div></div></div></div></div></div></div></div>"
      ],
      "text/plain": [
       "GridSearchCV(cv=3,\n",
       "             estimator=Pipeline(steps=[('vectorizer', CountVectorizer()),\n",
       "                                       ('clf', MultinomialNB())]),\n",
       "             n_jobs=-1,\n",
       "             param_grid={'clf__alpha': [0.5, 1],\n",
       "                         'vectorizer__max_df': [0.75, 0.85, 0.95],\n",
       "                         'vectorizer__max_features': [None, 500, 1000, 2000],\n",
       "                         'vectorizer__min_df': [2, 3, 4],\n",
       "                         'vectorizer__ngram_range': [(1, 1), (1, 2)],\n",
       "                         'vectorizer__stop_words': [None, 'english']},\n",
       "             verbose=2)"
      ]
     },
     "execution_count": 15,
     "metadata": {},
     "output_type": "execute_result"
    }
   ],
   "source": [
    "%%time\n",
    "# Create grid search\n",
    "grid_search = GridSearchCV(clf_pipe, param_grid, cv=3,verbose=2, n_jobs=-1)\n",
    "\n",
    "# Fit the model\n",
    "grid_search.fit(X_train, y_train)"
   ]
  },
  {
   "cell_type": "code",
   "execution_count": 16,
   "id": "2a64a6ff-b131-4568-b344-bac63b5f6a5a",
   "metadata": {},
   "outputs": [
    {
     "data": {
      "text/plain": [
       "{'clf__alpha': 1,\n",
       " 'vectorizer__max_df': 0.75,\n",
       " 'vectorizer__max_features': None,\n",
       " 'vectorizer__min_df': 2,\n",
       " 'vectorizer__ngram_range': (1, 2),\n",
       " 'vectorizer__stop_words': None}"
      ]
     },
     "execution_count": 16,
     "metadata": {},
     "output_type": "execute_result"
    }
   ],
   "source": [
    "# Get Params\n",
    "grid_search.best_params_"
   ]
  },
  {
   "cell_type": "code",
   "execution_count": 17,
   "id": "f2cc4d3f-40d3-4326-a1f9-1253f0372d7a",
   "metadata": {},
   "outputs": [],
   "source": [
    "from sklearn.metrics import classification_report, ConfusionMatrixDisplay\n",
    "import matplotlib.pyplot as plt\n",
    "import numpy as np\n",
    "def classification_metrics(y_true, y_pred, label='',\n",
    "                           output_dict=False, figsize=(8,4),\n",
    "                           normalize='true', cmap='Blues',\n",
    "                           colorbar=False,values_format=\".2f\"):\n",
    "    \"\"\"Modified version of classification metrics function from Intro to Machine Learning.\n",
    "    Updates:\n",
    "    - Reversed raw counts confusion matrix cmap  (so darker==more).\n",
    "    - Added arg for normalized confusion matrix values_format\n",
    "    \"\"\"\n",
    "    # Get the classification report\n",
    "    report = classification_report(y_true, y_pred)\n",
    "    \n",
    "    ## Print header and report\n",
    "    header = \"-\"*70\n",
    "    print(header, f\" Classification Metrics: {label}\", header, sep='\\n')\n",
    "    print(report)\n",
    "    \n",
    "    ## CONFUSION MATRICES SUBPLOTS\n",
    "    fig, axes = plt.subplots(ncols=2, figsize=figsize)\n",
    "    \n",
    "    # Create a confusion matrix  of raw counts (left subplot)\n",
    "    ConfusionMatrixDisplay.from_predictions(y_true, y_pred,\n",
    "                                            normalize=None, \n",
    "                                            cmap='gist_gray_r',# Updated cmap\n",
    "                                            values_format=\"d\", \n",
    "                                            colorbar=colorbar,\n",
    "                                            ax = axes[0]);\n",
    "    axes[0].set_title(\"Raw Counts\")\n",
    "    \n",
    "    # Create a confusion matrix with the data with normalize argument \n",
    "    ConfusionMatrixDisplay.from_predictions(y_true, y_pred,\n",
    "                                            normalize=normalize,\n",
    "                                            cmap=cmap, \n",
    "                                            values_format=values_format, #New arg\n",
    "                                            colorbar=colorbar,\n",
    "                                            ax = axes[1]);\n",
    "    axes[1].set_title(\"Normalized Confusion Matrix\")\n",
    "    \n",
    "    # Adjust layout and show figure\n",
    "    fig.tight_layout()\n",
    "    plt.show()\n",
    "    \n",
    "    # Return dictionary of classification_report\n",
    "    if output_dict==True:\n",
    "        report_dict = classification_report(y_true, y_pred, output_dict=True)\n",
    "        return report_dict\n",
    "    \n",
    "    \n",
    "def evaluate_classification(model, X_train, y_train, X_test, y_test,\n",
    "                         figsize=(6,4), normalize='true', output_dict = False,\n",
    "                            cmap_train='Blues', cmap_test=\"Reds\",colorbar=False):\n",
    "  # Get predictions for training data\n",
    "  y_train_pred = model.predict(X_train)\n",
    "  # Call the helper function to obtain regression metrics for training data\n",
    "  results_train = classification_metrics(y_train, y_train_pred, #verbose = verbose,\n",
    "                                     output_dict=True, figsize=figsize,\n",
    "                                         colorbar=colorbar, cmap=cmap_train,\n",
    "                                     label='Training Data')\n",
    "  print()\n",
    "  # Get predictions for test data\n",
    "  y_test_pred = model.predict(X_test)\n",
    "  # Call the helper function to obtain regression metrics for test data\n",
    "  results_test = classification_metrics(y_test, y_test_pred, #verbose = verbose,\n",
    "                                  output_dict=True,figsize=figsize,\n",
    "                                         colorbar=colorbar, cmap=cmap_test,\n",
    "                                    label='Test Data' )\n",
    "  if output_dict == True:\n",
    "    # Store results in a dataframe if ouput_frame is True\n",
    "    results_dict = {'train':results_train,\n",
    "                    'test': results_test}\n",
    "    return results_dict\n"
   ]
  },
  {
   "cell_type": "code",
   "execution_count": 18,
   "id": "d720b60b-6f0e-4452-a563-ba66d971da23",
   "metadata": {},
   "outputs": [
    {
     "name": "stdout",
     "output_type": "stream",
     "text": [
      "----------------------------------------------------------------------\n",
      " Classification Metrics: Training Data\n",
      "----------------------------------------------------------------------\n",
      "              precision    recall  f1-score   support\n",
      "\n",
      " high-rating       0.99      0.99      0.99       896\n",
      "  low-rating       0.99      0.99      0.99       918\n",
      "\n",
      "    accuracy                           0.99      1814\n",
      "   macro avg       0.99      0.99      0.99      1814\n",
      "weighted avg       0.99      0.99      0.99      1814\n",
      "\n"
     ]
    },
    {
     "data": {
      "image/png": "[encoded data removed]",
      "text/plain": [
       "<Figure size 600x400 with 2 Axes>"
      ]
     },
     "metadata": {},
     "output_type": "display_data"
    },
    {
     "name": "stdout",
     "output_type": "stream",
     "text": [
      "\n",
      "----------------------------------------------------------------------\n",
      " Classification Metrics: Test Data\n",
      "----------------------------------------------------------------------\n",
      "              precision    recall  f1-score   support\n",
      "\n",
      " high-rating       0.90      0.89      0.90       299\n",
      "  low-rating       0.89      0.91      0.90       306\n",
      "\n",
      "    accuracy                           0.90       605\n",
      "   macro avg       0.90      0.90      0.90       605\n",
      "weighted avg       0.90      0.90      0.90       605\n",
      "\n"
     ]
    },
    {
     "data": {
      "image/png": "[encoded data removed]",
      "text/plain": [
       "<Figure size 600x400 with 2 Axes>"
      ]
     },
     "metadata": {},
     "output_type": "display_data"
    }
   ],
   "source": [
    "# Now define the best version of the model\n",
    "best_model = grid_search.best_estimator_\n",
    "\n",
    "# Predict and Evaluate with the custom function\n",
    "evaluate_classification(best_model, X_train, y_train, X_test, y_test)"
   ]
  },
  {
   "cell_type": "code",
   "execution_count": 19,
   "id": "8b50c951-1fac-49d5-9153-e9009b1e372e",
   "metadata": {},
   "outputs": [
    {
     "data": {
      "text/plain": [
       "['Models/clf_pipe.joblib']"
      ]
     },
     "execution_count": 19,
     "metadata": {},
     "output_type": "execute_result"
    }
   ],
   "source": [
    "import joblib\n",
    "\n",
    "# rf_dump = {'RF_pipe': rf_pipe}\n",
    "# logreg_dump = {'logreg_pipe': logreg_pipe}\n",
    "joblib.dump(clf_pipe, 'Models/clf_pipe.joblib')"
   ]
  },
  {
   "cell_type": "code",
   "execution_count": 20,
   "id": "b8072841-ce0a-497c-99a8-c867395a7b96",
   "metadata": {},
   "outputs": [
    {
     "data": {
      "text/plain": [
       "['Data-NLP/test.joblib']"
      ]
     },
     "execution_count": 20,
     "metadata": {},
     "output_type": "execute_result"
    }
   ],
   "source": [
    "joblib.dump([X_train, y_train], 'Data-NLP/train.joblib')\n",
    "joblib.dump([X_test, y_test], 'Data-NLP/test.joblib')"
   ]
  },
  {
   "cell_type": "code",
   "execution_count": 21,
   "id": "a4e23f60-85f1-4582-ae34-8895a4173e77",
   "metadata": {},
   "outputs": [
    {
     "data": {
      "text/plain": [
       "['pathlib.joblib']"
      ]
     },
     "execution_count": 21,
     "metadata": {},
     "output_type": "execute_result"
    }
   ],
   "source": [
    "pathlib = {\"models\": {'clf':'Models/clf_Pipe.joblib',},\n",
    "           \"data\": {\"train\":'Data-NLP/train.joblib',\n",
    "                    \"test\":'Data-NLP/test.joblib'}}\n",
    "\n",
    "joblib.dump(pathlib, 'pathlib.joblib')\n"
   ]
  },
  {
   "cell_type": "code",
   "execution_count": 22,
   "id": "5a8daf42-2986-49bb-9b79-905293bc1392",
   "metadata": {},
   "outputs": [
    {
     "name": "stdout",
     "output_type": "stream",
     "text": [
      "{'data': {'ml': {'label_encoder': 'Data-NLP/label-encoder.joblib',\n",
      "                 'target_lookup': 'Data-NLP/target-lookup-dict.joblib',\n",
      "                 'test': 'Data-NLP/test.joblib',\n",
      "                 'train': 'Data-NLP/train.joblib'},\n",
      "          'raw': {'eda': 'Data-NLP/processed_data.csv',\n",
      "                  'full': 'Data-NLP/movie_reviews_v2.csv'}},\n",
      " 'models': {'clf': 'Models/clf_pipe.joblib'}}\n"
     ]
    }
   ],
   "source": [
    "from pprint import pprint\n",
    "FPATHS = dict(\n",
    "    data={\n",
    "        \"raw\": {\n",
    "            \"full\": \"Data-NLP/movie_reviews_v2.csv\",  # (This is the original full dataframe we already have)\n",
    "            \"eda\": \"Data-NLP/processed_data.csv\" # We haven't saved this yet\n",
    "        },\n",
    "        \"ml\": {\n",
    "            \"train\": \"Data-NLP/train.joblib\",  # (X_train,y_train) We haven't saved this yet\n",
    "            \"test\": \"Data-NLP/test.joblib\",  # (X_test,y_test) We haven't saved this yet\n",
    "            \"label_encoder\":\"Data-NLP/label-encoder.joblib\",\n",
    "            'target_lookup':\"Data-NLP/target-lookup-dict.joblib\",\n",
    "        },\n",
    "    },\n",
    "    models={\n",
    "        \"clf\": \"Models/clf_pipe.joblib\", # We haven't saved this yet\n",
    "    \n",
    "    },\n",
    ")\n",
    "pprint(FPATHS)\n",
    "\n"
   ]
  },
  {
   "cell_type": "code",
   "execution_count": 23,
   "id": "a21e920e-fa21-4561-b630-64acb8e4e694",
   "metadata": {},
   "outputs": [],
   "source": [
    " ## Save the filepaths \n",
    "import os, json\n",
    "os.makedirs('config/', exist_ok=True)\n",
    "FPATHS_FILE = 'config/filepaths.json'\n",
    "with open(FPATHS_FILE, 'w') as f:\n",
    "    json.dump(FPATHS, f)\n",
    "\n"
   ]
  },
  {
   "cell_type": "code",
   "execution_count": 24,
   "id": "c873fa2d-9820-4632-88e5-b01006330099",
   "metadata": {},
   "outputs": [
    {
     "data": {
      "text/plain": [
       "dict_keys(['data', 'models'])"
      ]
     },
     "execution_count": 24,
     "metadata": {},
     "output_type": "execute_result"
    }
   ],
   "source": [
    "import json\n",
    "with open ('config/filepaths.json') as f:\n",
    "    FPATHS = json.load(f)\n",
    "    \n",
    "FPATHS.keys()\n",
    "\n"
   ]
  },
  {
   "cell_type": "code",
   "execution_count": 25,
   "id": "6765f5a3-aee4-4ea7-906f-a19e921d7f05",
   "metadata": {},
   "outputs": [],
   "source": [
    "def load_data(fpath):\n",
    "    df = pd.read_csv(fpath)\n",
    "    return df\n",
    "\n"
   ]
  },
  {
   "cell_type": "code",
   "execution_count": 26,
   "id": "606f916e-aa34-4177-8079-085525921e50",
   "metadata": {},
   "outputs": [
    {
     "data": {
      "text/html": [
       "<div>\n",
       "<style scoped>\n",
       "    .dataframe tbody tr th:only-of-type {\n",
       "        vertical-align: middle;\n",
       "    }\n",
       "\n",
       "    .dataframe tbody tr th {\n",
       "        vertical-align: top;\n",
       "    }\n",
       "\n",
       "    .dataframe thead th {\n",
       "        text-align: right;\n",
       "    }\n",
       "</style>\n",
       "<table border=\"1\" class=\"dataframe\">\n",
       "  <thead>\n",
       "    <tr style=\"text-align: right;\">\n",
       "      <th></th>\n",
       "      <th>review_id</th>\n",
       "      <th>movie_id</th>\n",
       "      <th>imdb_id</th>\n",
       "      <th>original_title</th>\n",
       "      <th>review</th>\n",
       "      <th>rating</th>\n",
       "      <th>lower_text</th>\n",
       "      <th>tokens</th>\n",
       "      <th>target</th>\n",
       "      <th>spacy_lemmas</th>\n",
       "      <th>length</th>\n",
       "    </tr>\n",
       "  </thead>\n",
       "  <tbody>\n",
       "    <tr>\n",
       "      <th>0</th>\n",
       "      <td>64ecc16e83901800af821d50</td>\n",
       "      <td>843</td>\n",
       "      <td>tt0118694</td>\n",
       "      <td>花樣年華</td>\n",
       "      <td>This is a fine piece of cinema from Wong Kar-Wai that tells us a story of two people whom circumstance throws together - but not in a way you might expect. We start with two couples who move into a new building. One a newspaper man with his wife, the other a business executive and his wife. The ...</td>\n",
       "      <td>7.0</td>\n",
       "      <td>this is a fine piece of cinema from wong kar-wai that tells us a story of two people whom circumstance throws together - but not in a way you might expect. we start with two couples who move into a new building. one a newspaper man with his wife, the other a business executive and his wife. the ...</td>\n",
       "      <td>['this', 'is', 'a', 'fine', 'piece', 'of', 'cinema', 'from', 'wong', 'kar-wai', 'that', 'tells', 'us', 'a', 'story', 'of', 'two', 'people', 'whom', 'circumstance', 'throws', 'together', '-', 'but', 'not', 'in', 'a', 'way', 'you', 'might', 'expect.', 'we', 'start', 'with', 'two', 'couples', 'who'...</td>\n",
       "      <td>NaN</td>\n",
       "      <td>['fine', 'piece', 'cinema', 'wong', 'kar', 'wai', 'tell', 'story', 'people', 'circumstance', 'throw', 'way', 'expect', 'start', 'couple', 'new', 'building', 'newspaper', 'man', 'wife', 'business', 'executive', 'wife', 'businessman', 'rarely', 'home', 'journalist', 'wife', 'leave', 'increasingly'...</td>\n",
       "      <td>266</td>\n",
       "    </tr>\n",
       "    <tr>\n",
       "      <th>1</th>\n",
       "      <td>57086ff5c3a3681d29001512</td>\n",
       "      <td>7443</td>\n",
       "      <td>tt0120630</td>\n",
       "      <td>Chicken Run</td>\n",
       "      <td>A guilty pleasure for me personally, as I love both 'The Great Escape' and most of the works I have seen, over the years, from this rightfully-esteemed British animation company. Highly recommended both for children and for adults who enjoy animation.</td>\n",
       "      <td>9.0</td>\n",
       "      <td>a guilty pleasure for me personally, as i love both 'the great escape' and most of the works i have seen, over the years, from this rightfully-esteemed british animation company. highly recommended both for children and for adults who enjoy animation.</td>\n",
       "      <td>['a', 'guilty', 'pleasure', 'for', 'me', 'personally,', 'as', 'i', 'love', 'both', \"'the\", 'great', \"escape'\", 'and', 'most', 'of', 'the', 'works', 'i', 'have', 'seen,', 'over', 'the', 'years,', 'from', 'this', 'rightfully-esteemed', 'british', 'animation', 'company.', 'highly', 'recommended', '...</td>\n",
       "      <td>high-rating</td>\n",
       "      <td>['guilty', 'pleasure', 'personally', 'love', 'great', 'escape', 'work', 'see', 'year', 'rightfully', 'esteem', 'british', 'animation', 'company', 'highly', 'recommend', 'child', 'adult', 'enjoy', 'animation']</td>\n",
       "      <td>41</td>\n",
       "    </tr>\n",
       "    <tr>\n",
       "      <th>2</th>\n",
       "      <td>5bb5ac829251410dcb00810c</td>\n",
       "      <td>7443</td>\n",
       "      <td>tt0120630</td>\n",
       "      <td>Chicken Run</td>\n",
       "      <td>Made my roommate who hates stop-motion animation watched this in 2018 and even he had a good time. It's maybe not as great as I remember thinking it was when I was a little kid, but it still holds up to some degree.\\r\\n\\r\\n_Final rating:★★★ - I liked it. Would personally recommend you give it a ...</td>\n",
       "      <td>6.0</td>\n",
       "      <td>made my roommate who hates stop-motion animation watched this in 2018 and even he had a good time. it's maybe not as great as i remember thinking it was when i was a little kid, but it still holds up to some degree.\\r\\n\\r\\n_final rating:★★★ - i liked it. would personally recommend you give it a ...</td>\n",
       "      <td>['made', 'my', 'roommate', 'who', 'hates', 'stop-motion', 'animation', 'watched', 'this', 'in', '2018', 'and', 'even', 'he', 'had', 'a', 'good', 'time.', \"it's\", 'maybe', 'not', 'as', 'great', 'as', 'i', 'remember', 'thinking', 'it', 'was', 'when', 'i', 'was', 'a', 'little', 'kid,', 'but', 'it',...</td>\n",
       "      <td>NaN</td>\n",
       "      <td>['roommate', 'hate', 'stop', 'motion', 'animation', 'watch', '2018', 'good', 'time', 'maybe', 'great', 'remember', 'think', 'little', 'kid', 'hold', 'degree', 'final', 'rating', '★', '★', '★', 'like', 'personally', 'recommend']</td>\n",
       "      <td>57</td>\n",
       "    </tr>\n",
       "    <tr>\n",
       "      <th>3</th>\n",
       "      <td>5f0c53a013a32000357ec505</td>\n",
       "      <td>7443</td>\n",
       "      <td>tt0120630</td>\n",
       "      <td>Chicken Run</td>\n",
       "      <td>A very good stop-motion animation!\\r\\n\\r\\n&lt;em&gt;'Chicken Run'&lt;/em&gt;, which I watched a crap tonne when I was little but not for a vast number of years now, is an impressive production given it came out in 2000. Despite a pretty simple feel to the film, it's a very well developed concept.\\r\\n\\r\\nThe...</td>\n",
       "      <td>8.0</td>\n",
       "      <td>a very good stop-motion animation!\\r\\n\\r\\n&lt;em&gt;'chicken run'&lt;/em&gt;, which i watched a crap tonne when i was little but not for a vast number of years now, is an impressive production given it came out in 2000. despite a pretty simple feel to the film, it's a very well developed concept.\\r\\n\\r\\nthe...</td>\n",
       "      <td>['a', 'very', 'good', 'stop-motion', 'animation!', \"&lt;em&gt;'chicken\", \"run'&lt;/em&gt;,\", 'which', 'i', 'watched', 'a', 'crap', 'tonne', 'when', 'i', 'was', 'little', 'but', 'not', 'for', 'a', 'vast', 'number', 'of', 'years', 'now,', 'is', 'an', 'impressive', 'production', 'given', 'it', 'came', 'out', '...</td>\n",
       "      <td>NaN</td>\n",
       "      <td>['good', 'stop', 'motion', 'animation', '&lt;', \"em&gt;'chicken\", \"run'&lt;/em\", '&gt;', 'watch', 'crap', 'tonne', 'little', 'vast', 'number', 'year', 'impressive', 'production', 'give', 'come', '2000', 'despite', 'pretty', 'simple', 'feel', 'film', 'develop', 'concept', 'admittedly', 'short', 'run', 'time'...</td>\n",
       "      <td>135</td>\n",
       "    </tr>\n",
       "    <tr>\n",
       "      <th>4</th>\n",
       "      <td>64ecc027594c9400ffe77c91</td>\n",
       "      <td>7443</td>\n",
       "      <td>tt0120630</td>\n",
       "      <td>Chicken Run</td>\n",
       "      <td>Ok, there is an huge temptation to riddle this review with puns - but I'm just going to say it's a cracking little family adventure. It's seemingly based on a whole range of classic movies from the \"Great Escape\", \"Star Trek\" to \"Love Story\" with a score cannibalised from just about any/everythi...</td>\n",
       "      <td>7.0</td>\n",
       "      <td>ok, there is an huge temptation to riddle this review with puns - but i'm just going to say it's a cracking little family adventure. it's seemingly based on a whole range of classic movies from the \"great escape\", \"star trek\" to \"love story\" with a score cannibalised from just about any/everythi...</td>\n",
       "      <td>['ok,', 'there', 'is', 'an', 'huge', 'temptation', 'to', 'riddle', 'this', 'review', 'with', 'puns', '-', 'but', \"i'm\", 'just', 'going', 'to', 'say', \"it's\", 'a', 'cracking', 'little', 'family', 'adventure.', \"it's\", 'seemingly', 'based', 'on', 'a', 'whole', 'range', 'of', 'classic', 'movies', '...</td>\n",
       "      <td>NaN</td>\n",
       "      <td>['ok', 'huge', 'temptation', 'riddle', 'review', 'pun', 'go', 'crack', 'little', 'family', 'adventure', 'seemingly', 'base', 'range', 'classic', 'movie', 'great', 'escape', 'star', 'trek', 'love', 'story', 'score', 'cannibalise', 'write', 'messrs.', 'korngold', 'williams', 'bernstein', 'add', 's...</td>\n",
       "      <td>206</td>\n",
       "    </tr>\n",
       "  </tbody>\n",
       "</table>\n",
       "</div>"
      ],
      "text/plain": [
       "                  review_id  movie_id    imdb_id original_title  \\\n",
       "0  64ecc16e83901800af821d50       843  tt0118694           花樣年華   \n",
       "1  57086ff5c3a3681d29001512      7443  tt0120630    Chicken Run   \n",
       "2  5bb5ac829251410dcb00810c      7443  tt0120630    Chicken Run   \n",
       "3  5f0c53a013a32000357ec505      7443  tt0120630    Chicken Run   \n",
       "4  64ecc027594c9400ffe77c91      7443  tt0120630    Chicken Run   \n",
       "\n",
       "                                                                                                                                                                                                                                                                                                        review  \\\n",
       "0  This is a fine piece of cinema from Wong Kar-Wai that tells us a story of two people whom circumstance throws together - but not in a way you might expect. We start with two couples who move into a new building. One a newspaper man with his wife, the other a business executive and his wife. The ...   \n",
       "1                                                  A guilty pleasure for me personally, as I love both 'The Great Escape' and most of the works I have seen, over the years, from this rightfully-esteemed British animation company. Highly recommended both for children and for adults who enjoy animation.   \n",
       "2  Made my roommate who hates stop-motion animation watched this in 2018 and even he had a good time. It's maybe not as great as I remember thinking it was when I was a little kid, but it still holds up to some degree.\\r\\n\\r\\n_Final rating:★★★ - I liked it. Would personally recommend you give it a ...   \n",
       "3  A very good stop-motion animation!\\r\\n\\r\\n<em>'Chicken Run'</em>, which I watched a crap tonne when I was little but not for a vast number of years now, is an impressive production given it came out in 2000. Despite a pretty simple feel to the film, it's a very well developed concept.\\r\\n\\r\\nThe...   \n",
       "4  Ok, there is an huge temptation to riddle this review with puns - but I'm just going to say it's a cracking little family adventure. It's seemingly based on a whole range of classic movies from the \"Great Escape\", \"Star Trek\" to \"Love Story\" with a score cannibalised from just about any/everythi...   \n",
       "\n",
       "   rating  \\\n",
       "0     7.0   \n",
       "1     9.0   \n",
       "2     6.0   \n",
       "3     8.0   \n",
       "4     7.0   \n",
       "\n",
       "                                                                                                                                                                                                                                                                                                    lower_text  \\\n",
       "0  this is a fine piece of cinema from wong kar-wai that tells us a story of two people whom circumstance throws together - but not in a way you might expect. we start with two couples who move into a new building. one a newspaper man with his wife, the other a business executive and his wife. the ...   \n",
       "1                                                  a guilty pleasure for me personally, as i love both 'the great escape' and most of the works i have seen, over the years, from this rightfully-esteemed british animation company. highly recommended both for children and for adults who enjoy animation.   \n",
       "2  made my roommate who hates stop-motion animation watched this in 2018 and even he had a good time. it's maybe not as great as i remember thinking it was when i was a little kid, but it still holds up to some degree.\\r\\n\\r\\n_final rating:★★★ - i liked it. would personally recommend you give it a ...   \n",
       "3  a very good stop-motion animation!\\r\\n\\r\\n<em>'chicken run'</em>, which i watched a crap tonne when i was little but not for a vast number of years now, is an impressive production given it came out in 2000. despite a pretty simple feel to the film, it's a very well developed concept.\\r\\n\\r\\nthe...   \n",
       "4  ok, there is an huge temptation to riddle this review with puns - but i'm just going to say it's a cracking little family adventure. it's seemingly based on a whole range of classic movies from the \"great escape\", \"star trek\" to \"love story\" with a score cannibalised from just about any/everythi...   \n",
       "\n",
       "                                                                                                                                                                                                                                                                                                        tokens  \\\n",
       "0  ['this', 'is', 'a', 'fine', 'piece', 'of', 'cinema', 'from', 'wong', 'kar-wai', 'that', 'tells', 'us', 'a', 'story', 'of', 'two', 'people', 'whom', 'circumstance', 'throws', 'together', '-', 'but', 'not', 'in', 'a', 'way', 'you', 'might', 'expect.', 'we', 'start', 'with', 'two', 'couples', 'who'...   \n",
       "1  ['a', 'guilty', 'pleasure', 'for', 'me', 'personally,', 'as', 'i', 'love', 'both', \"'the\", 'great', \"escape'\", 'and', 'most', 'of', 'the', 'works', 'i', 'have', 'seen,', 'over', 'the', 'years,', 'from', 'this', 'rightfully-esteemed', 'british', 'animation', 'company.', 'highly', 'recommended', '...   \n",
       "2  ['made', 'my', 'roommate', 'who', 'hates', 'stop-motion', 'animation', 'watched', 'this', 'in', '2018', 'and', 'even', 'he', 'had', 'a', 'good', 'time.', \"it's\", 'maybe', 'not', 'as', 'great', 'as', 'i', 'remember', 'thinking', 'it', 'was', 'when', 'i', 'was', 'a', 'little', 'kid,', 'but', 'it',...   \n",
       "3  ['a', 'very', 'good', 'stop-motion', 'animation!', \"<em>'chicken\", \"run'</em>,\", 'which', 'i', 'watched', 'a', 'crap', 'tonne', 'when', 'i', 'was', 'little', 'but', 'not', 'for', 'a', 'vast', 'number', 'of', 'years', 'now,', 'is', 'an', 'impressive', 'production', 'given', 'it', 'came', 'out', '...   \n",
       "4  ['ok,', 'there', 'is', 'an', 'huge', 'temptation', 'to', 'riddle', 'this', 'review', 'with', 'puns', '-', 'but', \"i'm\", 'just', 'going', 'to', 'say', \"it's\", 'a', 'cracking', 'little', 'family', 'adventure.', \"it's\", 'seemingly', 'based', 'on', 'a', 'whole', 'range', 'of', 'classic', 'movies', '...   \n",
       "\n",
       "        target  \\\n",
       "0          NaN   \n",
       "1  high-rating   \n",
       "2          NaN   \n",
       "3          NaN   \n",
       "4          NaN   \n",
       "\n",
       "                                                                                                                                                                                                                                                                                                  spacy_lemmas  \\\n",
       "0  ['fine', 'piece', 'cinema', 'wong', 'kar', 'wai', 'tell', 'story', 'people', 'circumstance', 'throw', 'way', 'expect', 'start', 'couple', 'new', 'building', 'newspaper', 'man', 'wife', 'business', 'executive', 'wife', 'businessman', 'rarely', 'home', 'journalist', 'wife', 'leave', 'increasingly'...   \n",
       "1                                                                                             ['guilty', 'pleasure', 'personally', 'love', 'great', 'escape', 'work', 'see', 'year', 'rightfully', 'esteem', 'british', 'animation', 'company', 'highly', 'recommend', 'child', 'adult', 'enjoy', 'animation']   \n",
       "2                                                                          ['roommate', 'hate', 'stop', 'motion', 'animation', 'watch', '2018', 'good', 'time', 'maybe', 'great', 'remember', 'think', 'little', 'kid', 'hold', 'degree', 'final', 'rating', '★', '★', '★', 'like', 'personally', 'recommend']   \n",
       "3  ['good', 'stop', 'motion', 'animation', '<', \"em>'chicken\", \"run'</em\", '>', 'watch', 'crap', 'tonne', 'little', 'vast', 'number', 'year', 'impressive', 'production', 'give', 'come', '2000', 'despite', 'pretty', 'simple', 'feel', 'film', 'develop', 'concept', 'admittedly', 'short', 'run', 'time'...   \n",
       "4  ['ok', 'huge', 'temptation', 'riddle', 'review', 'pun', 'go', 'crack', 'little', 'family', 'adventure', 'seemingly', 'base', 'range', 'classic', 'movie', 'great', 'escape', 'star', 'trek', 'love', 'story', 'score', 'cannibalise', 'write', 'messrs.', 'korngold', 'williams', 'bernstein', 'add', 's...   \n",
       "\n",
       "   length  \n",
       "0     266  \n",
       "1      41  \n",
       "2      57  \n",
       "3     135  \n",
       "4     206  "
      ]
     },
     "execution_count": 26,
     "metadata": {},
     "output_type": "execute_result"
    }
   ],
   "source": [
    "# Load dataset\n",
    "df = load_data(fpath = FPATHS['data']['raw']['eda'])\n",
    "df.head()\n",
    "\n"
   ]
  },
  {
   "cell_type": "code",
   "execution_count": 27,
   "id": "13692388-415f-4a93-a606-e47bbdb19a1a",
   "metadata": {},
   "outputs": [],
   "source": [
    "def load_Xy_data(fpath):\n",
    "    return joblib.load(fpath)\n",
    "\n"
   ]
  },
  {
   "cell_type": "code",
   "execution_count": 28,
   "id": "9191217c-99e2-4335-b1d1-4a38bfb713d6",
   "metadata": {},
   "outputs": [],
   "source": [
    "# Call function for train data\n",
    "X_train, y_train = load_Xy_data(fpath=FPATHS['data']['ml']['train'])\n",
    "# Call function for test data\n",
    "X_test, y_test = load_Xy_data(fpath=FPATHS['data']['ml']['test'])\n",
    "\n"
   ]
  },
  {
   "cell_type": "code",
   "execution_count": 29,
   "id": "1f616ef9-3e8c-4cb7-9937-fab58d8b3106",
   "metadata": {},
   "outputs": [],
   "source": [
    "import streamlit as st"
   ]
  },
  {
   "cell_type": "code",
   "execution_count": 33,
   "id": "d58331cb-30ef-41ba-83b9-1300bfb778cc",
   "metadata": {},
   "outputs": [],
   "source": [
    "# Loading the ML model\n",
    "@st.cache_resource\n",
    "def load_ml_model(fpath):\n",
    "    loaded_model = joblib.load(fpath)\n",
    "    return loaded_model\n",
    "# Load model from FPATHS\n",
    "model_fpath = FPATHS['models']['clf']\n",
    "clf_pipe = load_ml_model(model_fpath)\n",
    "\n"
   ]
  },
  {
   "cell_type": "code",
   "execution_count": 35,
   "id": "4c44aeab-871d-442c-8957-47ad94a04d47",
   "metadata": {},
   "outputs": [],
   "source": [
    "# Load model\n",
    "best_model = load_ml_model(fpath = FPATHS['models']['clf'])\n",
    "\n"
   ]
  },
  {
   "cell_type": "code",
   "execution_count": 36,
   "id": "c3e29c3b-58a7-475c-9301-49c1fcaa783e",
   "metadata": {},
   "outputs": [
    {
     "name": "stdout",
     "output_type": "stream",
     "text": [
      "<class 'pandas.core.frame.DataFrame'>\n",
      "RangeIndex: 8650 entries, 0 to 8649\n",
      "Data columns (total 11 columns):\n",
      " #   Column          Non-Null Count  Dtype  \n",
      "---  ------          --------------  -----  \n",
      " 0   review_id       8650 non-null   object \n",
      " 1   movie_id        8650 non-null   int64  \n",
      " 2   imdb_id         8650 non-null   object \n",
      " 3   original_title  8650 non-null   object \n",
      " 4   review          8650 non-null   object \n",
      " 5   rating          7454 non-null   float64\n",
      " 6   lower_text      8650 non-null   object \n",
      " 7   tokens          8650 non-null   object \n",
      " 8   target          2419 non-null   object \n",
      " 9   spacy_lemmas    8650 non-null   object \n",
      " 10  length          8650 non-null   int64  \n",
      "dtypes: float64(1), int64(2), object(8)\n",
      "memory usage: 743.5+ KB\n"
     ]
    }
   ],
   "source": [
    "df.info()"
   ]
  },
  {
   "cell_type": "code",
   "execution_count": 37,
   "id": "5d3d8b53-03c7-4aa5-84d0-023c7c7f7842",
   "metadata": {},
   "outputs": [
    {
     "data": {
      "text/plain": [
       "7485     low-rating\n",
       "6462    high-rating\n",
       "5182     low-rating\n",
       "253     high-rating\n",
       "3169     low-rating\n",
       "           ...     \n",
       "3717     low-rating\n",
       "4895    high-rating\n",
       "4003     low-rating\n",
       "199      low-rating\n",
       "2002    high-rating\n",
       "Name: target, Length: 605, dtype: object"
      ]
     },
     "execution_count": 37,
     "metadata": {},
     "output_type": "execute_result"
    }
   ],
   "source": [
    "y_test"
   ]
  },
  {
   "cell_type": "code",
   "execution_count": 38,
   "id": "407123c6-5372-410f-b52e-1d614963a96e",
   "metadata": {},
   "outputs": [],
   "source": [
    "# Mapping numeric value with public-facing label\n",
    "rename_target_map = {0:'Low Rating', 1:\"High Rating\"}\n",
    "\n"
   ]
  },
  {
   "cell_type": "code",
   "execution_count": 39,
   "id": "fb27ce12-0f5f-41d7-ab83-1d03cb92e0c4",
   "metadata": {},
   "outputs": [],
   "source": [
    "# Replace y values\n",
    "y = df['target'].replace(rename_target_map)\n",
    "# Define X as normal\n",
    "X = df['review']\n",
    "\n"
   ]
  },
  {
   "cell_type": "code",
   "execution_count": 40,
   "id": "6a8adf08-90fa-4675-8c81-05b945e403f5",
   "metadata": {},
   "outputs": [],
   "source": [
    "# Train test split\n",
    "X_train, X_test, y_train_str, y_test_str = train_test_split(X,y,test_size=0.25,\n",
    "                                                    random_state=321)\n"
   ]
  },
  {
   "cell_type": "code",
   "execution_count": 41,
   "id": "3f355c0a-c805-4de4-a894-98f75678ef98",
   "metadata": {},
   "outputs": [
    {
     "data": {
      "text/plain": [
       "array([nan, 'low-rating', 'high-rating'], dtype=object)"
      ]
     },
     "execution_count": 41,
     "metadata": {},
     "output_type": "execute_result"
    }
   ],
   "source": [
    "# Getting unique classes to convert \n",
    "class_names = y_train_str.unique()\n",
    "class_names\n"
   ]
  },
  {
   "cell_type": "code",
   "execution_count": 42,
   "id": "50aaeb71-3e29-49aa-a329-78a6684827f4",
   "metadata": {},
   "outputs": [
    {
     "data": {
      "text/html": [
       "<style>#sk-container-id-3 {color: black;background-color: white;}#sk-container-id-3 pre{padding: 0;}#sk-container-id-3 div.sk-toggleable {background-color: white;}#sk-container-id-3 label.sk-toggleable__label {cursor: pointer;display: block;width: 100%;margin-bottom: 0;padding: 0.3em;box-sizing: border-box;text-align: center;}#sk-container-id-3 label.sk-toggleable__label-arrow:before {content: \"▸\";float: left;margin-right: 0.25em;color: #696969;}#sk-container-id-3 label.sk-toggleable__label-arrow:hover:before {color: black;}#sk-container-id-3 div.sk-estimator:hover label.sk-toggleable__label-arrow:before {color: black;}#sk-container-id-3 div.sk-toggleable__content {max-height: 0;max-width: 0;overflow: hidden;text-align: left;background-color: #f0f8ff;}#sk-container-id-3 div.sk-toggleable__content pre {margin: 0.2em;color: black;border-radius: 0.25em;background-color: #f0f8ff;}#sk-container-id-3 input.sk-toggleable__control:checked~div.sk-toggleable__content {max-height: 200px;max-width: 100%;overflow: auto;}#sk-container-id-3 input.sk-toggleable__control:checked~label.sk-toggleable__label-arrow:before {content: \"▾\";}#sk-container-id-3 div.sk-estimator input.sk-toggleable__control:checked~label.sk-toggleable__label {background-color: #d4ebff;}#sk-container-id-3 div.sk-label input.sk-toggleable__control:checked~label.sk-toggleable__label {background-color: #d4ebff;}#sk-container-id-3 input.sk-hidden--visually {border: 0;clip: rect(1px 1px 1px 1px);clip: rect(1px, 1px, 1px, 1px);height: 1px;margin: -1px;overflow: hidden;padding: 0;position: absolute;width: 1px;}#sk-container-id-3 div.sk-estimator {font-family: monospace;background-color: #f0f8ff;border: 1px dotted black;border-radius: 0.25em;box-sizing: border-box;margin-bottom: 0.5em;}#sk-container-id-3 div.sk-estimator:hover {background-color: #d4ebff;}#sk-container-id-3 div.sk-parallel-item::after {content: \"\";width: 100%;border-bottom: 1px solid gray;flex-grow: 1;}#sk-container-id-3 div.sk-label:hover label.sk-toggleable__label {background-color: #d4ebff;}#sk-container-id-3 div.sk-serial::before {content: \"\";position: absolute;border-left: 1px solid gray;box-sizing: border-box;top: 0;bottom: 0;left: 50%;z-index: 0;}#sk-container-id-3 div.sk-serial {display: flex;flex-direction: column;align-items: center;background-color: white;padding-right: 0.2em;padding-left: 0.2em;position: relative;}#sk-container-id-3 div.sk-item {position: relative;z-index: 1;}#sk-container-id-3 div.sk-parallel {display: flex;align-items: stretch;justify-content: center;background-color: white;position: relative;}#sk-container-id-3 div.sk-item::before, #sk-container-id-3 div.sk-parallel-item::before {content: \"\";position: absolute;border-left: 1px solid gray;box-sizing: border-box;top: 0;bottom: 0;left: 50%;z-index: -1;}#sk-container-id-3 div.sk-parallel-item {display: flex;flex-direction: column;z-index: 1;position: relative;background-color: white;}#sk-container-id-3 div.sk-parallel-item:first-child::after {align-self: flex-end;width: 50%;}#sk-container-id-3 div.sk-parallel-item:last-child::after {align-self: flex-start;width: 50%;}#sk-container-id-3 div.sk-parallel-item:only-child::after {width: 0;}#sk-container-id-3 div.sk-dashed-wrapped {border: 1px dashed gray;margin: 0 0.4em 0.5em 0.4em;box-sizing: border-box;padding-bottom: 0.4em;background-color: white;}#sk-container-id-3 div.sk-label label {font-family: monospace;font-weight: bold;display: inline-block;line-height: 1.2em;}#sk-container-id-3 div.sk-label-container {text-align: center;}#sk-container-id-3 div.sk-container {/* jupyter's `normalize.less` sets `[hidden] { display: none; }` but bootstrap.min.css set `[hidden] { display: none !important; }` so we also need the `!important` here to be able to override the default hidden behavior on the sphinx rendered scikit-learn.org. See: https://github.com/scikit-learn/scikit-learn/issues/21755 */display: inline-block !important;position: relative;}#sk-container-id-3 div.sk-text-repr-fallback {display: none;}</style><div id=\"sk-container-id-3\" class=\"sk-top-container\"><div class=\"sk-text-repr-fallback\"><pre>LabelEncoder()</pre><b>In a Jupyter environment, please rerun this cell to show the HTML representation or trust the notebook. <br />On GitHub, the HTML representation is unable to render, please try loading this page with nbviewer.org.</b></div><div class=\"sk-container\" hidden><div class=\"sk-item\"><div class=\"sk-estimator sk-toggleable\"><input class=\"sk-toggleable__control sk-hidden--visually\" id=\"sk-estimator-id-6\" type=\"checkbox\" checked><label for=\"sk-estimator-id-6\" class=\"sk-toggleable__label sk-toggleable__label-arrow\">LabelEncoder</label><div class=\"sk-toggleable__content\"><pre>LabelEncoder()</pre></div></div></div></div></div>"
      ],
      "text/plain": [
       "LabelEncoder()"
      ]
     },
     "execution_count": 42,
     "metadata": {},
     "output_type": "execute_result"
    }
   ],
   "source": [
    "from sklearn.preprocessing import LabelEncoder\n",
    "# Fit the label encoder on unique class names\n",
    "encoder = LabelEncoder()\n",
    "encoder.fit(class_names)\n",
    "\n"
   ]
  },
  {
   "cell_type": "code",
   "execution_count": 43,
   "id": "f5390e31-05d7-461d-ab93-aee3f329a846",
   "metadata": {},
   "outputs": [
    {
     "data": {
      "text/plain": [
       "array([2, 1, 2, 2, 0, 1, 1, 2, 2, 2])"
      ]
     },
     "execution_count": 43,
     "metadata": {},
     "output_type": "execute_result"
    }
   ],
   "source": [
    "# Transform the y_train_str and y_test_str with encoder\n",
    "y_train = encoder.transform(y_train_str)\n",
    "y_test = encoder.transform(y_test_str)\n",
    "y_train[:10]\n",
    "\n"
   ]
  },
  {
   "cell_type": "code",
   "execution_count": 44,
   "id": "ead1552e-44eb-4f7a-8fa6-be3f692423ea",
   "metadata": {},
   "outputs": [
    {
     "ename": "SyntaxError",
     "evalue": "invalid non-printable character U+200B (1859620895.py, line 3)",
     "output_type": "error",
     "traceback": [
      "\u001b[1;36m  Cell \u001b[1;32mIn[44], line 3\u001b[1;36m\u001b[0m\n\u001b[1;33m    classes​\u001b[0m\n\u001b[1;37m           ^\u001b[0m\n\u001b[1;31mSyntaxError\u001b[0m\u001b[1;31m:\u001b[0m invalid non-printable character U+200B\n"
     ]
    }
   ],
   "source": [
    "# Extract the class names from the encoder\n",
    "classes = encoder.classes_\n",
    "classes​"
   ]
  },
  {
   "cell_type": "code",
   "execution_count": 45,
   "id": "fecbee79-1a76-43b8-a284-9af9518cb6ad",
   "metadata": {},
   "outputs": [
    {
     "ename": "NameError",
     "evalue": "name 'classes' is not defined",
     "output_type": "error",
     "traceback": [
      "\u001b[1;31m---------------------------------------------------------------------------\u001b[0m",
      "\u001b[1;31mNameError\u001b[0m                                 Traceback (most recent call last)",
      "Cell \u001b[1;32mIn[45], line 2\u001b[0m\n\u001b[0;32m      1\u001b[0m \u001b[38;5;66;03m# Get the encoded values for each both classes\u001b[39;00m\n\u001b[1;32m----> 2\u001b[0m class_codes \u001b[38;5;241m=\u001b[39m encoder\u001b[38;5;241m.\u001b[39mtransform(\u001b[43mclasses\u001b[49m)\n\u001b[0;32m      3\u001b[0m class_codes\n",
      "\u001b[1;31mNameError\u001b[0m: name 'classes' is not defined"
     ]
    }
   ],
   "source": [
    "# Get the encoded values for each both classes\n",
    "class_codes = encoder.transform(classes)\n",
    "class_codes\n",
    "\n"
   ]
  },
  {
   "cell_type": "code",
   "execution_count": 46,
   "id": "2a504b2f-8c71-4b44-b7f7-70b33a2d5c50",
   "metadata": {},
   "outputs": [
    {
     "ename": "NameError",
     "evalue": "name 'class_codes' is not defined",
     "output_type": "error",
     "traceback": [
      "\u001b[1;31m---------------------------------------------------------------------------\u001b[0m",
      "\u001b[1;31mNameError\u001b[0m                                 Traceback (most recent call last)",
      "Cell \u001b[1;32mIn[46], line 2\u001b[0m\n\u001b[0;32m      1\u001b[0m \u001b[38;5;66;03m# Making lookup dictionary to find the encoded label's original name\u001b[39;00m\n\u001b[1;32m----> 2\u001b[0m target_lookup \u001b[38;5;241m=\u001b[39m \u001b[38;5;28mdict\u001b[39m(\u001b[38;5;28mzip\u001b[39m(\u001b[43mclass_codes\u001b[49m,classes ))\n\u001b[0;32m      3\u001b[0m target_lookup\n",
      "\u001b[1;31mNameError\u001b[0m: name 'class_codes' is not defined"
     ]
    }
   ],
   "source": [
    "# Making lookup dictionary to find the encoded label's original name\n",
    "target_lookup = dict(zip(class_codes,classes ))\n",
    "target_lookup\n",
    "\n"
   ]
  },
  {
   "cell_type": "code",
   "execution_count": 47,
   "id": "ddf97028-6f94-4b63-8642-c6b00f48f364",
   "metadata": {},
   "outputs": [
    {
     "ename": "SyntaxError",
     "evalue": "invalid non-printable character U+200B (2044906754.py, line 1)",
     "output_type": "error",
     "traceback": [
      "\u001b[1;36m  Cell \u001b[1;32mIn[47], line 1\u001b[1;36m\u001b[0m\n\u001b[1;33m    ​# Save encoder\u001b[0m\n\u001b[1;37m    ^\u001b[0m\n\u001b[1;31mSyntaxError\u001b[0m\u001b[1;31m:\u001b[0m invalid non-printable character U+200B\n"
     ]
    }
   ],
   "source": [
    "​# Save encoder\n",
    "fpath_encoder = FPATHS['data']['ml']['label_encoder']\n",
    "joblib.dump(encoder,fpath_encoder)\n",
    "\n",
    "# Save dictionary\n",
    "fpath_lookup = FPATHS['data']['ml']['target_lookup']\n",
    "joblib.dump(target_lookup,fpath_lookup )\n"
   ]
  },
  {
   "cell_type": "markdown",
   "id": "177418fb-8582-4eb9-a6ec-f3a738d12801",
   "metadata": {},
   "source": [
    "# Scatter Text"
   ]
  },
  {
   "cell_type": "code",
   "execution_count": 48,
   "id": "e475991d-84fc-4bc3-ac6c-cd79e7c646d2",
   "metadata": {},
   "outputs": [
    {
     "name": "stderr",
     "output_type": "stream",
     "text": [
      "2024-05-17 16:50:27.970 No runtime found, using MemoryCacheStorageManager\n"
     ]
    }
   ],
   "source": [
    "st.divider()\n",
    "st.subheader(\"ScatterText:\")\n",
    "@st.cache_data\n",
    "def load_scattertext(fpath):\n",
    "    with open(fpath) as f:\n",
    "        explorer = f.read()\n",
    "        return explorer\n",
    "\n"
   ]
  },
  {
   "cell_type": "code",
   "execution_count": null,
   "id": "471112d3-ab24-4fe5-8191-b5ec2ec9bd88",
   "metadata": {},
   "outputs": [],
   "source": []
  }
 ],
 "metadata": {
  "kernelspec": {
   "display_name": "Python (dojo-env)",
   "language": "python",
   "name": "dojo-env"
  },
  "language_info": {
   "codemirror_mode": {
    "name": "ipython",
    "version": 3
   },
   "file_extension": ".py",
   "mimetype": "text/x-python",
   "name": "python",
   "nbconvert_exporter": "python",
   "pygments_lexer": "ipython3",
   "version": "3.10.10"
  }
 },
 "nbformat": 4,
 "nbformat_minor": 5
}
